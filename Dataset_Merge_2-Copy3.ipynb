{
 "cells": [
  {
   "cell_type": "code",
   "execution_count": 25,
   "id": "46cf196b-b0d9-4abb-8eb9-cdffbe0d762a",
   "metadata": {},
   "outputs": [],
   "source": [
    "import pandas as pd"
   ]
  },
  {
   "cell_type": "code",
   "execution_count": 26,
   "id": "3fb2931d-60c5-4418-abed-3e1f7c4dc534",
   "metadata": {},
   "outputs": [
    {
     "name": "stdout",
     "output_type": "stream",
     "text": [
      "                   Name  nAcid   ALogP    ALogp2      AMR       apol  \\\n",
      "0  AUTOGEN_molecule_791      0 -0.7258  0.526786  52.5415  78.159618   \n",
      "1  AUTOGEN_molecule_736      1 -0.2676  0.071610  59.7133  46.425274   \n",
      "2  AUTOGEN_molecule_987      0  0.1374  0.018879  44.1146  57.905688   \n",
      "3  AUTOGEN_molecule_602      0  0.0000  0.000000   0.0000   0.000000   \n",
      "4  AUTOGEN_molecule_328      1 -0.0489  0.002391  66.8022  45.915067   \n",
      "\n",
      "   naAromAtom  nAromBond  nAtom  nHeavyAtom  ...  APC2D10_I_I  APC2D10_I_B  \\\n",
      "0          23         25     64          38  ...          0.0          0.0   \n",
      "1           6          6     41          23  ...          0.0          0.0   \n",
      "2          16         17     47          31  ...          0.0          0.0   \n",
      "3           0          0      0           0  ...          0.0          0.0   \n",
      "4           5          5     40          21  ...          0.0          0.0   \n",
      "\n",
      "   APC2D10_I_Si  APC2D10_I_X  APC2D10_B_B  APC2D10_B_Si  APC2D10_B_X  \\\n",
      "0           0.0          0.0          0.0           0.0          0.0   \n",
      "1           0.0          0.0          0.0           0.0          0.0   \n",
      "2           0.0          0.0          0.0           0.0          0.0   \n",
      "3           0.0          0.0          0.0           0.0          0.0   \n",
      "4           0.0          0.0          0.0           0.0          0.0   \n",
      "\n",
      "   APC2D10_Si_Si  APC2D10_Si_X  APC2D10_X_X  \n",
      "0            0.0           0.0          0.0  \n",
      "1            0.0           0.0          0.0  \n",
      "2            0.0           0.0          0.0  \n",
      "3            0.0           0.0          0.0  \n",
      "4            0.0           0.0          0.0  \n",
      "\n",
      "[5 rows x 17537 columns]\n"
     ]
    }
   ],
   "source": [
    "df = pd.read_csv(\"Descriptors_2.csv\")\n",
    "print(df.head())"
   ]
  },
  {
   "cell_type": "code",
   "execution_count": 27,
   "id": "1f465eb4-42b3-4841-a800-70fefdd480a7",
   "metadata": {},
   "outputs": [
    {
     "name": "stdout",
     "output_type": "stream",
     "text": [
      "                   Name  nAcid   ALogP    ALogp2      AMR       apol  \\\n",
      "0  AUTOGEN_molecule_791      0 -0.7258  0.526786  52.5415  78.159618   \n",
      "1  AUTOGEN_molecule_736      1 -0.2676  0.071610  59.7133  46.425274   \n",
      "2  AUTOGEN_molecule_987      0  0.1374  0.018879  44.1146  57.905688   \n",
      "3  AUTOGEN_molecule_602      0  0.0000  0.000000   0.0000   0.000000   \n",
      "4  AUTOGEN_molecule_328      1 -0.0489  0.002391  66.8022  45.915067   \n",
      "\n",
      "   naAromAtom  nAromBond  nAtom  nHeavyAtom  ...  APC2D10_I_B  APC2D10_I_Si  \\\n",
      "0          23         25     64          38  ...          0.0           0.0   \n",
      "1           6          6     41          23  ...          0.0           0.0   \n",
      "2          16         17     47          31  ...          0.0           0.0   \n",
      "3           0          0      0           0  ...          0.0           0.0   \n",
      "4           5          5     40          21  ...          0.0           0.0   \n",
      "\n",
      "   APC2D10_I_X  APC2D10_B_B  APC2D10_B_Si  APC2D10_B_X  APC2D10_Si_Si  \\\n",
      "0          0.0          0.0           0.0          0.0            0.0   \n",
      "1          0.0          0.0           0.0          0.0            0.0   \n",
      "2          0.0          0.0           0.0          0.0            0.0   \n",
      "3          0.0          0.0           0.0          0.0            0.0   \n",
      "4          0.0          0.0           0.0          0.0            0.0   \n",
      "\n",
      "   APC2D10_Si_X  APC2D10_X_X  mol_id  \n",
      "0           0.0          0.0     791  \n",
      "1           0.0          0.0     736  \n",
      "2           0.0          0.0     987  \n",
      "3           0.0          0.0     602  \n",
      "4           0.0          0.0     328  \n",
      "\n",
      "[5 rows x 17538 columns]\n"
     ]
    }
   ],
   "source": [
    "# Extract molecule number from name\n",
    "df[\"mol_id\"] = df[\"Name\"].str.extract(r'AUTOGEN_molecule_(\\d+)').astype(int)\n",
    "print(df.head())"
   ]
  },
  {
   "cell_type": "code",
   "execution_count": 28,
   "id": "304d71c0-a5ab-4be7-9316-42e3362fa093",
   "metadata": {},
   "outputs": [
    {
     "name": "stdout",
     "output_type": "stream",
     "text": [
      "   mol_id  Unnamed: 0 Molecule ChEMBL ID Molecule Name  Molecule Max Phase  \\\n",
      "0       1           0       CHEMBL478315           NaN                 NaN   \n",
      "1       2           1       CHEMBL521322           NaN                 NaN   \n",
      "2       3           2       CHEMBL469088           NaN                 NaN   \n",
      "3       4           3       CHEMBL514863           NaN                 NaN   \n",
      "4       5           4       CHEMBL453967           NaN                 NaN   \n",
      "\n",
      "   Molecular Weight  #RO5 Violations  AlogP Compound Key  \\\n",
      "0            433.60              0.0   3.79          15c   \n",
      "1            476.92              0.0   4.60           5d   \n",
      "2            474.43              0.0   4.46          17c   \n",
      "3            419.57              0.0   3.54          14c   \n",
      "4            584.59              2.0   3.06           6c   \n",
      "\n",
      "                                              Smiles  ... Document Journal  \\\n",
      "0  CC(C)C1C(=O)CC(c2ccccc2)N(C(=O)CN2CCN(C)CC2)C1...  ...   Eur J Med Chem   \n",
      "1  COC1(O)C(=O)c2ccccc2OC1(OC)c1cn(-c2ccccc2)nc1-...  ...   Eur J Med Chem   \n",
      "2  CC1C(=O)CC(c2ccc(Cl)cc2)N(C(=O)CN2CCN(C)CC2)C1...  ...   Eur J Med Chem   \n",
      "3  CCC1C(=O)CC(c2ccccc2)N(C(=O)CN2CCN(C)CC2)C1c1c...  ...   Eur J Med Chem   \n",
      "4  COc1c(N2CCN(c3nnc(-c4ncc([N+](=O)[O-])n4C)s3)C...  ...   Eur J Med Chem   \n",
      "\n",
      "  Document Year  Cell ChEMBL ID Properties  Action Type Standard Text Value  \\\n",
      "0          2009             NaN        NaN          NaN                 NaN   \n",
      "1          2009             NaN        NaN          NaN                 NaN   \n",
      "2          2009             NaN        NaN          NaN                 NaN   \n",
      "3          2009             NaN        NaN          NaN                 NaN   \n",
      "4          2009             NaN        NaN          NaN                 NaN   \n",
      "\n",
      "    Value      MIC_µM  Activity_Label  \\\n",
      "0   50.00  115.313653               0   \n",
      "1   64.00  134.194414               0   \n",
      "2   12.50   26.347406               1   \n",
      "3  100.00  238.339252               0   \n",
      "4    0.25    0.427650               1   \n",
      "\n",
      "                                 Processed_Molecule  \n",
      "0  <rdkit.Chem.rdchem.Mol object at 0x740c2bdfa5e0>  \n",
      "1  <rdkit.Chem.rdchem.Mol object at 0x740c2bdfa650>  \n",
      "2  <rdkit.Chem.rdchem.Mol object at 0x740c2bdfa730>  \n",
      "3  <rdkit.Chem.rdchem.Mol object at 0x740c2bdfa7a0>  \n",
      "4  <rdkit.Chem.rdchem.Mol object at 0x740c2bdfa6c0>  \n",
      "\n",
      "[5 rows x 53 columns]\n"
     ]
    }
   ],
   "source": [
    "df2 = pd.read_csv(\"S.typhi_MIC_Dataset_Processed.csv\") \n",
    "\n",
    "# Add index as a new column 'mol_id' (starting from 1)\n",
    "df2 = df2.reset_index().rename(columns={'index': 'mol_id'})\n",
    "df2[\"mol_id\"] = df2[\"mol_id\"] + 1  # Shift index by +1\n",
    "\n",
    "# Ensure 'mol_id' is of integer type\n",
    "df2[\"mol_id\"] = df2[\"mol_id\"].astype(int)\n",
    "\n",
    "print(df2.head())\n"
   ]
  },
  {
   "cell_type": "code",
   "execution_count": 29,
   "id": "d532dc80-863c-4a55-ac22-314a342077ba",
   "metadata": {},
   "outputs": [
    {
     "name": "stdout",
     "output_type": "stream",
     "text": [
      "                   Name  nAcid   ALogP    ALogp2      AMR       apol  \\\n",
      "0  AUTOGEN_molecule_791      0 -0.7258  0.526786  52.5415  78.159618   \n",
      "1  AUTOGEN_molecule_736      1 -0.2676  0.071610  59.7133  46.425274   \n",
      "2  AUTOGEN_molecule_987      0  0.1374  0.018879  44.1146  57.905688   \n",
      "3  AUTOGEN_molecule_602      0  0.0000  0.000000   0.0000   0.000000   \n",
      "4  AUTOGEN_molecule_328      1 -0.0489  0.002391  66.8022  45.915067   \n",
      "\n",
      "   naAromAtom  nAromBond  nAtom  nHeavyAtom  ...      Document Journal  \\\n",
      "0          23         25     64          38  ...          Med Chem Res   \n",
      "1           6          6     41          23  ...        Eur J Med Chem   \n",
      "2          16         17     47          31  ...  Bioorg Med Chem Lett   \n",
      "3           0          0      0           0  ...            J Med Chem   \n",
      "4           5          5     40          21  ...  Bioorg Med Chem Lett   \n",
      "\n",
      "   Document Year  Cell ChEMBL ID  Properties  Action Type  \\\n",
      "0           2012             NaN         NaN          NaN   \n",
      "1           2016             NaN         NaN          NaN   \n",
      "2           2017             NaN         NaN          NaN   \n",
      "3           1977             NaN         NaN          NaN   \n",
      "4           2008             NaN         NaN          NaN   \n",
      "\n",
      "   Standard Text Value  Value       MIC_µM  Activity_Label  \\\n",
      "0                  NaN  250.0     0.492543               1   \n",
      "1                  NaN    4.0    12.525835               1   \n",
      "2                  NaN  500.0  1117.468264               0   \n",
      "3                  NaN  200.0   323.086119               0   \n",
      "4                  NaN    8.0    25.857332               1   \n",
      "\n",
      "                                 Processed_Molecule  \n",
      "0  <rdkit.Chem.rdchem.Mol object at 0x740c1c661c40>  \n",
      "1  <rdkit.Chem.rdchem.Mol object at 0x740c1c660350>  \n",
      "2  <rdkit.Chem.rdchem.Mol object at 0x740c1c64b220>  \n",
      "3  <rdkit.Chem.rdchem.Mol object at 0x740c1c690900>  \n",
      "4  <rdkit.Chem.rdchem.Mol object at 0x740c1c6c0f20>  \n",
      "\n",
      "[5 rows x 17590 columns]\n"
     ]
    }
   ],
   "source": [
    "# Merge on 'mol_id'\n",
    "merged_df = pd.merge(df, df2, on=\"mol_id\", how=\"inner\")\n",
    "\n",
    "# Save the merged dataset\n",
    "merged_df.to_csv(\"merged_dataset.csv\", index=False)\n",
    "\n",
    "# Display the result\n",
    "print(merged_df.head())"
   ]
  },
  {
   "cell_type": "code",
   "execution_count": 30,
   "id": "c8d2b53b-8d60-4764-8530-1e80c3c919b2",
   "metadata": {},
   "outputs": [
    {
     "name": "stdout",
     "output_type": "stream",
     "text": [
      "Columns in CSV: Index(['Name', 'nAcid', 'ALogP', 'ALogp2', 'AMR', 'apol', 'naAromAtom',\n",
      "       'nAromBond', 'nAtom', 'nHeavyAtom',\n",
      "       ...\n",
      "       'Document Journal', 'Document Year', 'Cell ChEMBL ID', 'Properties',\n",
      "       'Action Type', 'Standard Text Value', 'Value', 'MIC_µM',\n",
      "       'Activity_Label', 'Processed_Molecule'],\n",
      "      dtype='object', length=17590)\n"
     ]
    }
   ],
   "source": [
    "# Check the column names\n",
    "print(\"Columns in CSV:\", merged_df.columns)"
   ]
  },
  {
   "cell_type": "code",
   "execution_count": 31,
   "id": "4410f6ee-ec61-4735-83b3-da8d9c795325",
   "metadata": {},
   "outputs": [
    {
     "name": "stdout",
     "output_type": "stream",
     "text": [
      "Columns in CSV: Index(['Name', 'nAcid', 'ALogP', 'ALogp2', 'AMR', 'apol', 'naAromAtom',\n",
      "       'nAromBond', 'nAtom', 'nHeavyAtom',\n",
      "       ...\n",
      "       'Document Journal', 'Document Year', 'Cell ChEMBL ID', 'Properties',\n",
      "       'Action Type', 'Standard Text Value', 'Value', 'MIC_µM',\n",
      "       'Activity_Label', 'Processed_Molecule'],\n",
      "      dtype='object', length=17590)\n"
     ]
    }
   ],
   "source": [
    "df = merged_df\n",
    "\n",
    "df = df.loc[:, df.nunique() > 1]  # Keeps only columns with more than 1 unique value\n",
    "\n",
    "df = df.dropna(axis=1)  # Drops any column with NaN values\n",
    "\n",
    "# Check the column names\n",
    "print(\"Columns in CSV:\", merged_df.columns)"
   ]
  },
  {
   "cell_type": "code",
   "execution_count": 32,
   "id": "8e558620-2643-4cf5-91ff-52977afeb727",
   "metadata": {},
   "outputs": [
    {
     "data": {
      "text/plain": [
       "'\\nchosen_columns = [\\'Smiles\\', \\'Activity_Label\\', \\'MIC_µM\\']  # Non-numeric columns to keep\\nnon_numeric_cols = df.select_dtypes(exclude=[\"number\"]).columns.difference(chosen_columns)\\ndf = df.drop(columns=non_numeric_cols)\\nprint(df.head())\\n'"
      ]
     },
     "execution_count": 32,
     "metadata": {},
     "output_type": "execute_result"
    }
   ],
   "source": [
    "'''\n",
    "chosen_columns = ['Smiles', 'Activity_Label', 'MIC_µM']  # Non-numeric columns to keep\n",
    "non_numeric_cols = df.select_dtypes(exclude=[\"number\"]).columns.difference(chosen_columns)\n",
    "df = df.drop(columns=non_numeric_cols)\n",
    "print(df.head())\n",
    "'''"
   ]
  },
  {
   "cell_type": "code",
   "execution_count": 43,
   "id": "cea06ae0-8664-4be7-881f-0441ada391b6",
   "metadata": {
    "scrolled": true
   },
   "outputs": [
    {
     "name": "stdout",
     "output_type": "stream",
     "text": [
      "   nAcid   ALogP    ALogp2      AMR       apol  naAromAtom  nAromBond  nAtom  \\\n",
      "0      0 -0.7258  0.526786  52.5415  78.159618          23         25     64   \n",
      "1      1 -0.2676  0.071610  59.7133  46.425274           6          6     41   \n",
      "2      0  0.1374  0.018879  44.1146  57.905688          16         17     47   \n",
      "3      0  0.0000  0.000000   0.0000   0.000000           0          0      0   \n",
      "4      1 -0.0489  0.002391  66.8022  45.915067           5          5     40   \n",
      "\n",
      "   nHeavyAtom  nH  ...  APC2D10_S_Cl  APC2D10_S_Br  APC2D10_S_X  APC2D10_F_F  \\\n",
      "0          38  26  ...           0.0           0.0          0.0          0.0   \n",
      "1          23  18  ...           0.0           0.0          0.0          0.0   \n",
      "2          31  16  ...           0.0           0.0          0.0          0.0   \n",
      "3           0   0  ...           0.0           0.0          0.0          0.0   \n",
      "4          21  19  ...           0.0           0.0          0.0          0.0   \n",
      "\n",
      "   APC2D10_F_Cl  APC2D10_F_X  APC2D10_Cl_X  APC2D10_X_X  Molecular Weight  \\\n",
      "0           0.0          0.0           0.0          0.0            507.57   \n",
      "1           0.0          0.0           0.0          0.0            319.34   \n",
      "2           0.0          0.0           0.0          0.0            447.44   \n",
      "3           0.0          0.0           0.0          0.0            619.03   \n",
      "4           0.0          0.0           0.0          0.0            309.39   \n",
      "\n",
      "   Activity_Label  \n",
      "0               1  \n",
      "1               1  \n",
      "2               0  \n",
      "3               0  \n",
      "4               1  \n",
      "\n",
      "[5 rows x 7768 columns]\n"
     ]
    }
   ],
   "source": [
    "import re\n",
    "\n",
    "# Columns to drop explicitly\n",
    "columns_to_drop = [\n",
    "    'Molecule ChEMBL ID', 'Molecule Name', 'Molecule Max Phase', 'Compound Key', 'Standard Type', 'Standard Relation', 'Standard Value', 'Standard Units',\n",
    "    'pChEMBL Value', 'Data Validity Comment', 'Comment', 'Uo Units', 'Ligand Efficiency BEI', 'mol_id', 'Smiles',\n",
    "    'Ligand Efficiency LE', 'Ligand Efficiency LLE', 'Ligand Efficiency SEI', 'Potential Duplicate',\n",
    "    'Assay ChEMBL ID', 'Assay Description', 'Assay Type', 'BAO Format ID', 'BAO Label', 'Assay Organism',\n",
    "    'Assay Tissue ChEMBL ID', 'Assay Tissue Name', 'Assay Cell Type', 'Assay Subcellular Fraction',\n",
    "    'Assay Parameters', 'Assay Variant Accession', 'Assay Variant Mutation', 'Target ChEMBL ID', 'Processed_Molecule',\n",
    "    'Target Name', 'Target Organism', 'Target Type', 'Document ChEMBL ID', 'Source ID', 'Source Description', 'Name', 'Unnamed: 0',\n",
    "    'Document Journal', 'Document Year', 'Cell ChEMBL ID', 'Properties', 'Action Type', 'Standard Text Value', 'Value', 'MIC_µM'\n",
    "]\n",
    "\n",
    "# Drop explicitly listed columns\n",
    "df = df.drop(columns=columns_to_drop, errors=\"ignore\")\n",
    "\n",
    "# Drop columns with regex patterns\n",
    "#regex_patterns = [\"FP\\d+\", \"ExtFP\\d+\", \"GraphFP\\d+\", \"MACCSFP\\d+\", \"PubchemFP\\d+\", \"SubFP\\d+\", \n",
    "#                  \"KRFP\\d+\", \"AD2D\\d+\", \"SubFPC\\d+\", \"KRFPC\\d+\", \"APC2D\\d+\", \"EStateFP\\d+\"]\n",
    "\n",
    "# Drop columns matching the patterns\n",
    "#df = df.drop(columns=[col for col in df.columns if any(re.match(pattern, col) for pattern in regex_patterns)], errors=\"ignore\")\n",
    "\n",
    "# Print result\n",
    "print(df.head())\n"
   ]
  },
  {
   "cell_type": "code",
   "execution_count": 44,
   "id": "f48788b8-6223-40e9-82bf-c420534482f4",
   "metadata": {},
   "outputs": [],
   "source": [
    "# Save the merged dataset\n",
    "df.to_csv(\"merged_dataset_cleaned.csv\", index=False)"
   ]
  },
  {
   "cell_type": "code",
   "execution_count": 45,
   "id": "ee8baaf6-a6f0-4ecf-b774-2af301df7477",
   "metadata": {},
   "outputs": [
    {
     "name": "stdout",
     "output_type": "stream",
     "text": [
      "Activity_Label\n",
      "0    956\n",
      "1    600\n",
      "Name: count, dtype: int64\n"
     ]
    }
   ],
   "source": [
    "print(df[\"Activity_Label\"].value_counts(dropna=False))"
   ]
  },
  {
   "cell_type": "code",
   "execution_count": 46,
   "id": "a6145711-b247-46c5-a746-7fb5df4c6d58",
   "metadata": {},
   "outputs": [
    {
     "name": "stdout",
     "output_type": "stream",
     "text": [
      "Total dataset size after balancing: 1556\n",
      "Training set size: 1244\n",
      "Test set size: 312\n",
      "Activity_Label\n",
      "0    747\n",
      "1    497\n",
      "Name: count, dtype: int64\n"
     ]
    }
   ],
   "source": [
    "from sklearn.model_selection import train_test_split\n",
    "\n",
    "train_df, test_df = train_test_split(df, test_size=0.2, random_state=42)\n",
    "\n",
    "print(f\"Total dataset size after balancing: {len(df)}\")\n",
    "print(f\"Training set size: {len(train_df)}\")\n",
    "print(f\"Test set size: {len(test_df)}\")\n",
    "print(train_df['Activity_Label'].value_counts())  # Check class distribution"
   ]
  },
  {
   "cell_type": "code",
   "execution_count": 47,
   "id": "92766bd3-afdd-4be2-b88f-9559ef5dacae",
   "metadata": {},
   "outputs": [],
   "source": [
    "train_df.to_csv(\"train_dataset.csv\", index=False)\n",
    "test_df.to_csv(\"test_dataset.csv\", index=False)\n"
   ]
  },
  {
   "cell_type": "code",
   "execution_count": null,
   "id": "ab6f4438-d3bc-4022-9375-2586f9618c22",
   "metadata": {},
   "outputs": [],
   "source": []
  }
 ],
 "metadata": {
  "kernelspec": {
   "display_name": "Python 3 (ipykernel)",
   "language": "python",
   "name": "python3"
  },
  "language_info": {
   "codemirror_mode": {
    "name": "ipython",
    "version": 3
   },
   "file_extension": ".py",
   "mimetype": "text/x-python",
   "name": "python",
   "nbconvert_exporter": "python",
   "pygments_lexer": "ipython3",
   "version": "3.12.9"
  }
 },
 "nbformat": 4,
 "nbformat_minor": 5
}
