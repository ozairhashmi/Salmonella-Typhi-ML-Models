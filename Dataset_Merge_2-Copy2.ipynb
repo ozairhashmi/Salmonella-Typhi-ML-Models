{
 "cells": [
  {
   "cell_type": "code",
   "execution_count": 1,
   "id": "46cf196b-b0d9-4abb-8eb9-cdffbe0d762a",
   "metadata": {},
   "outputs": [],
   "source": [
    "import pandas as pd"
   ]
  },
  {
   "cell_type": "code",
   "execution_count": 2,
   "id": "3fb2931d-60c5-4418-abed-3e1f7c4dc534",
   "metadata": {},
   "outputs": [
    {
     "name": "stdout",
     "output_type": "stream",
     "text": [
      "                   Name  nAcid   ALogP     ALogp2       AMR       apol  \\\n",
      "0  AUTOGEN_molecule_791      0  0.5938   0.352598   56.2416  80.451204   \n",
      "1  AUTOGEN_molecule_736      1 -1.2467   1.554261   58.9439  48.185274   \n",
      "2  AUTOGEN_molecule_987      1 -3.1752  10.081895  172.1119  94.983962   \n",
      "3  AUTOGEN_molecule_602      0  0.0000   0.000000    0.0000   0.000000   \n",
      "4  AUTOGEN_molecule_328      1 -0.0489   0.002391   66.8022  45.915067   \n",
      "\n",
      "   naAromAtom  nAromBond  nAtom  nHeavyAtom  ...  APC2D10_I_I  APC2D10_I_B  \\\n",
      "0          23         25     66          38  ...          0.0          0.0   \n",
      "1           6          6     42          24  ...          0.0          0.0   \n",
      "2           0          0     82          48  ...          0.0          0.0   \n",
      "3           0          0      0           0  ...          0.0          0.0   \n",
      "4           5          5     40          21  ...          0.0          0.0   \n",
      "\n",
      "   APC2D10_I_Si  APC2D10_I_X  APC2D10_B_B  APC2D10_B_Si  APC2D10_B_X  \\\n",
      "0           0.0          0.0          0.0           0.0          0.0   \n",
      "1           0.0          0.0          0.0           0.0          0.0   \n",
      "2           0.0          0.0          0.0           0.0          0.0   \n",
      "3           0.0          0.0          0.0           0.0          0.0   \n",
      "4           0.0          0.0          0.0           0.0          0.0   \n",
      "\n",
      "   APC2D10_Si_Si  APC2D10_Si_X  APC2D10_X_X  \n",
      "0            0.0           0.0          0.0  \n",
      "1            0.0           0.0          0.0  \n",
      "2            0.0           0.0          0.0  \n",
      "3            0.0           0.0          0.0  \n",
      "4            0.0           0.0          0.0  \n",
      "\n",
      "[5 rows x 17537 columns]\n"
     ]
    }
   ],
   "source": [
    "df = pd.read_csv(\"Descriptors.csv\")\n",
    "print(df.head())"
   ]
  },
  {
   "cell_type": "code",
   "execution_count": 3,
   "id": "1f465eb4-42b3-4841-a800-70fefdd480a7",
   "metadata": {},
   "outputs": [
    {
     "name": "stdout",
     "output_type": "stream",
     "text": [
      "                   Name  nAcid   ALogP     ALogp2       AMR       apol  \\\n",
      "0  AUTOGEN_molecule_791      0  0.5938   0.352598   56.2416  80.451204   \n",
      "1  AUTOGEN_molecule_736      1 -1.2467   1.554261   58.9439  48.185274   \n",
      "2  AUTOGEN_molecule_987      1 -3.1752  10.081895  172.1119  94.983962   \n",
      "3  AUTOGEN_molecule_602      0  0.0000   0.000000    0.0000   0.000000   \n",
      "4  AUTOGEN_molecule_328      1 -0.0489   0.002391   66.8022  45.915067   \n",
      "\n",
      "   naAromAtom  nAromBond  nAtom  nHeavyAtom  ...  APC2D10_I_B  APC2D10_I_Si  \\\n",
      "0          23         25     66          38  ...          0.0           0.0   \n",
      "1           6          6     42          24  ...          0.0           0.0   \n",
      "2           0          0     82          48  ...          0.0           0.0   \n",
      "3           0          0      0           0  ...          0.0           0.0   \n",
      "4           5          5     40          21  ...          0.0           0.0   \n",
      "\n",
      "   APC2D10_I_X  APC2D10_B_B  APC2D10_B_Si  APC2D10_B_X  APC2D10_Si_Si  \\\n",
      "0          0.0          0.0           0.0          0.0            0.0   \n",
      "1          0.0          0.0           0.0          0.0            0.0   \n",
      "2          0.0          0.0           0.0          0.0            0.0   \n",
      "3          0.0          0.0           0.0          0.0            0.0   \n",
      "4          0.0          0.0           0.0          0.0            0.0   \n",
      "\n",
      "   APC2D10_Si_X  APC2D10_X_X  mol_id  \n",
      "0           0.0          0.0     791  \n",
      "1           0.0          0.0     736  \n",
      "2           0.0          0.0     987  \n",
      "3           0.0          0.0     602  \n",
      "4           0.0          0.0     328  \n",
      "\n",
      "[5 rows x 17538 columns]\n"
     ]
    }
   ],
   "source": [
    "# Extract molecule number from name\n",
    "df[\"mol_id\"] = df[\"Name\"].str.extract(r'AUTOGEN_molecule_(\\d+)').astype(int)\n",
    "print(df.head())"
   ]
  },
  {
   "cell_type": "code",
   "execution_count": 4,
   "id": "304d71c0-a5ab-4be7-9316-42e3362fa093",
   "metadata": {},
   "outputs": [
    {
     "name": "stdout",
     "output_type": "stream",
     "text": [
      "   mol_id  Unnamed: 0 Molecule ChEMBL ID Molecule Name  Molecule Max Phase  \\\n",
      "0       1           0       CHEMBL478315           NaN                 NaN   \n",
      "1       2           1       CHEMBL521322           NaN                 NaN   \n",
      "2       3           2       CHEMBL469088           NaN                 NaN   \n",
      "3       4           3       CHEMBL514863           NaN                 NaN   \n",
      "4       5           4       CHEMBL453967           NaN                 NaN   \n",
      "\n",
      "   Molecular Weight  #RO5 Violations  AlogP Compound Key  \\\n",
      "0            433.60              0.0   3.79          15c   \n",
      "1            476.92              0.0   4.60           5d   \n",
      "2            474.43              0.0   4.46          17c   \n",
      "3            419.57              0.0   3.54          14c   \n",
      "4            584.59              2.0   3.06           6c   \n",
      "\n",
      "                                              Smiles  ... Document Journal  \\\n",
      "0  CC(C)C1C(=O)CC(c2ccccc2)N(C(=O)CN2CCN(C)CC2)C1...  ...   Eur J Med Chem   \n",
      "1  COC1(O)C(=O)c2ccccc2OC1(OC)c1cn(-c2ccccc2)nc1-...  ...   Eur J Med Chem   \n",
      "2  CC1C(=O)CC(c2ccc(Cl)cc2)N(C(=O)CN2CCN(C)CC2)C1...  ...   Eur J Med Chem   \n",
      "3  CCC1C(=O)CC(c2ccccc2)N(C(=O)CN2CCN(C)CC2)C1c1c...  ...   Eur J Med Chem   \n",
      "4  COc1c(N2CCN(c3nnc(-c4ncc([N+](=O)[O-])n4C)s3)C...  ...   Eur J Med Chem   \n",
      "\n",
      "  Document Year  Cell ChEMBL ID Properties  Action Type Standard Text Value  \\\n",
      "0          2009             NaN        NaN          NaN                 NaN   \n",
      "1          2009             NaN        NaN          NaN                 NaN   \n",
      "2          2009             NaN        NaN          NaN                 NaN   \n",
      "3          2009             NaN        NaN          NaN                 NaN   \n",
      "4          2009             NaN        NaN          NaN                 NaN   \n",
      "\n",
      "    Value      MIC_µM  Activity_Label  \\\n",
      "0   50.00  115.313653               0   \n",
      "1   64.00  134.194414               0   \n",
      "2   12.50   26.347406               1   \n",
      "3  100.00  238.339252               0   \n",
      "4    0.25    0.427650               1   \n",
      "\n",
      "                                 Processed_Molecule  \n",
      "0  <rdkit.Chem.rdchem.Mol object at 0x71c663c86c00>  \n",
      "1  <rdkit.Chem.rdchem.Mol object at 0x71c663c86ab0>  \n",
      "2  <rdkit.Chem.rdchem.Mol object at 0x71c663c86d50>  \n",
      "3  <rdkit.Chem.rdchem.Mol object at 0x71c663c86c70>  \n",
      "4  <rdkit.Chem.rdchem.Mol object at 0x71c663c86ce0>  \n",
      "\n",
      "[5 rows x 53 columns]\n"
     ]
    }
   ],
   "source": [
    "df2 = pd.read_csv(\"S.typhi_MIC_Dataset_Processed.csv\") \n",
    "\n",
    "# Add index as a new column 'mol_id' (starting from 1)\n",
    "df2 = df2.reset_index().rename(columns={'index': 'mol_id'})\n",
    "df2[\"mol_id\"] = df2[\"mol_id\"] + 1  # Shift index by +1\n",
    "\n",
    "# Ensure 'mol_id' is of integer type\n",
    "df2[\"mol_id\"] = df2[\"mol_id\"].astype(int)\n",
    "\n",
    "print(df2.head())\n"
   ]
  },
  {
   "cell_type": "code",
   "execution_count": 5,
   "id": "d532dc80-863c-4a55-ac22-314a342077ba",
   "metadata": {},
   "outputs": [
    {
     "name": "stdout",
     "output_type": "stream",
     "text": [
      "                   Name  nAcid   ALogP     ALogp2       AMR       apol  \\\n",
      "0  AUTOGEN_molecule_791      0  0.5938   0.352598   56.2416  80.451204   \n",
      "1  AUTOGEN_molecule_736      1 -1.2467   1.554261   58.9439  48.185274   \n",
      "2  AUTOGEN_molecule_987      1 -3.1752  10.081895  172.1119  94.983962   \n",
      "3  AUTOGEN_molecule_602      0  0.0000   0.000000    0.0000   0.000000   \n",
      "4  AUTOGEN_molecule_328      1 -0.0489   0.002391   66.8022  45.915067   \n",
      "\n",
      "   naAromAtom  nAromBond  nAtom  nHeavyAtom  ...      Document Journal  \\\n",
      "0          23         25     66          38  ...          Med Chem Res   \n",
      "1           6          6     42          24  ...  Bioorg Med Chem Lett   \n",
      "2           0          0     82          48  ...  Bioorg Med Chem Lett   \n",
      "3           0          0      0           0  ...            J Med Chem   \n",
      "4           5          5     40          21  ...          Med Chem Res   \n",
      "\n",
      "   Document Year  Cell ChEMBL ID  Properties  Action Type  \\\n",
      "0           2012             NaN         NaN          NaN   \n",
      "1           2017             NaN         NaN          NaN   \n",
      "2           2016             NaN         NaN          NaN   \n",
      "3           1977             NaN         NaN          NaN   \n",
      "4           2012             NaN         NaN          NaN   \n",
      "\n",
      "   Standard Text Value  Value      MIC_µM  Activity_Label  \\\n",
      "0                  NaN  200.0    0.395577               1   \n",
      "1                  NaN   25.0   75.448921               0   \n",
      "2                  NaN   59.1   59.100000               0   \n",
      "3                  NaN  200.0  277.723776               0   \n",
      "4                  NaN  100.0  159.565981               0   \n",
      "\n",
      "                                 Processed_Molecule  \n",
      "0  <rdkit.Chem.rdchem.Mol object at 0x71c66f57f220>  \n",
      "1  <rdkit.Chem.rdchem.Mol object at 0x71c66f57d9a0>  \n",
      "2  <rdkit.Chem.rdchem.Mol object at 0x71c66f540890>  \n",
      "3  <rdkit.Chem.rdchem.Mol object at 0x71c663c81f50>  \n",
      "4  <rdkit.Chem.rdchem.Mol object at 0x71c663c7e650>  \n",
      "\n",
      "[5 rows x 17590 columns]\n"
     ]
    }
   ],
   "source": [
    "# Merge on 'mol_id'\n",
    "merged_df = pd.merge(df, df2, on=\"mol_id\", how=\"inner\")\n",
    "\n",
    "# Save the merged dataset\n",
    "merged_df.to_csv(\"merged_dataset.csv\", index=False)\n",
    "\n",
    "# Display the result\n",
    "print(merged_df.head())"
   ]
  },
  {
   "cell_type": "code",
   "execution_count": 6,
   "id": "c8d2b53b-8d60-4764-8530-1e80c3c919b2",
   "metadata": {},
   "outputs": [
    {
     "name": "stdout",
     "output_type": "stream",
     "text": [
      "Columns in CSV: Index(['Name', 'nAcid', 'ALogP', 'ALogp2', 'AMR', 'apol', 'naAromAtom',\n",
      "       'nAromBond', 'nAtom', 'nHeavyAtom',\n",
      "       ...\n",
      "       'Document Journal', 'Document Year', 'Cell ChEMBL ID', 'Properties',\n",
      "       'Action Type', 'Standard Text Value', 'Value', 'MIC_µM',\n",
      "       'Activity_Label', 'Processed_Molecule'],\n",
      "      dtype='object', length=17590)\n"
     ]
    }
   ],
   "source": [
    "# Check the column names\n",
    "print(\"Columns in CSV:\", merged_df.columns)"
   ]
  },
  {
   "cell_type": "code",
   "execution_count": 7,
   "id": "4410f6ee-ec61-4735-83b3-da8d9c795325",
   "metadata": {},
   "outputs": [
    {
     "name": "stdout",
     "output_type": "stream",
     "text": [
      "Columns in CSV: Index(['Name', 'nAcid', 'ALogP', 'ALogp2', 'AMR', 'apol', 'naAromAtom',\n",
      "       'nAromBond', 'nAtom', 'nHeavyAtom',\n",
      "       ...\n",
      "       'Document Journal', 'Document Year', 'Cell ChEMBL ID', 'Properties',\n",
      "       'Action Type', 'Standard Text Value', 'Value', 'MIC_µM',\n",
      "       'Activity_Label', 'Processed_Molecule'],\n",
      "      dtype='object', length=17590)\n"
     ]
    }
   ],
   "source": [
    "df = merged_df\n",
    "\n",
    "df = df.loc[:, df.nunique() > 1]  # Keeps only columns with more than 1 unique value\n",
    "\n",
    "df = df.dropna(axis=1)  # Drops any column with NaN values\n",
    "\n",
    "# Check the column names\n",
    "print(\"Columns in CSV:\", merged_df.columns)"
   ]
  },
  {
   "cell_type": "code",
   "execution_count": 8,
   "id": "8e558620-2643-4cf5-91ff-52977afeb727",
   "metadata": {},
   "outputs": [
    {
     "data": {
      "text/plain": [
       "'\\nchosen_columns = [\\'Smiles\\', \\'Activity_Label\\', \\'MIC_µM\\']  # Non-numeric columns to keep\\nnon_numeric_cols = df.select_dtypes(exclude=[\"number\"]).columns.difference(chosen_columns)\\ndf = df.drop(columns=non_numeric_cols)\\nprint(df.head())\\n'"
      ]
     },
     "execution_count": 8,
     "metadata": {},
     "output_type": "execute_result"
    }
   ],
   "source": [
    "'''\n",
    "chosen_columns = ['Smiles', 'Activity_Label', 'MIC_µM']  # Non-numeric columns to keep\n",
    "non_numeric_cols = df.select_dtypes(exclude=[\"number\"]).columns.difference(chosen_columns)\n",
    "df = df.drop(columns=non_numeric_cols)\n",
    "print(df.head())\n",
    "'''"
   ]
  },
  {
   "cell_type": "code",
   "execution_count": 9,
   "id": "cea06ae0-8664-4be7-881f-0441ada391b6",
   "metadata": {
    "scrolled": true
   },
   "outputs": [
    {
     "name": "stdout",
     "output_type": "stream",
     "text": [
      "   nAcid   ALogP     ALogp2       AMR       apol  naAromAtom  nAromBond  \\\n",
      "0      0  0.5938   0.352598   56.2416  80.451204          23         25   \n",
      "1      1 -1.2467   1.554261   58.9439  48.185274           6          6   \n",
      "2      1 -3.1752  10.081895  172.1119  94.983962           0          0   \n",
      "3      0  0.0000   0.000000    0.0000   0.000000           0          0   \n",
      "4      1 -0.0489   0.002391   66.8022  45.915067           5          5   \n",
      "\n",
      "   nAtom  nHeavyAtom  nH  ...  APC2D10_S_X  APC2D10_F_F  APC2D10_F_Cl  \\\n",
      "0     66          38  28  ...          0.0          0.0           0.0   \n",
      "1     42          24  18  ...          0.0          0.0           0.0   \n",
      "2     82          48  34  ...          0.0          0.0           0.0   \n",
      "3      0           0   0  ...          0.0          0.0           0.0   \n",
      "4     40          21  19  ...          0.0          0.0           0.0   \n",
      "\n",
      "   APC2D10_F_X  APC2D10_Cl_X  APC2D10_X_X  Molecular Weight  \\\n",
      "0          0.0           0.0          0.0            505.59   \n",
      "1          0.0           0.0          0.0            331.35   \n",
      "2          0.0           0.0          0.0            659.67   \n",
      "3          0.0           0.0          0.0            720.14   \n",
      "4          0.0           0.0          0.0            626.70   \n",
      "\n",
      "                                              Smiles      MIC_µM  \\\n",
      "0  CC1(C)CC(=O)C2=C(C1)N(c1ccc(F)cc1)C(=O)CC2c1cn...    0.395577   \n",
      "1         O=C(O)c1cn(C2CC2)c2cc(N3CCNCC3)c(F)cc2c1=O   75.448921   \n",
      "2  CCn1cc(C(=O)NCCCC(=O)N2CCN(c3cc4c(cc3F)c(=O)c(...   59.100000   \n",
      "3  C[N+](C)(CCCCCCCCCCOc1c(Br)cc(Br)cc1Br)Cc1ccc(...  277.723776   \n",
      "4  COc1ccc(C2SCC(=O)N2c2ccc(Nc3nc(Oc4ccc5c(C)cc(=...  159.565981   \n",
      "\n",
      "   Activity_Label  \n",
      "0               1  \n",
      "1               0  \n",
      "2               0  \n",
      "3               0  \n",
      "4               0  \n",
      "\n",
      "[5 rows x 7760 columns]\n"
     ]
    }
   ],
   "source": [
    "import re\n",
    "\n",
    "# Columns to drop explicitly\n",
    "columns_to_drop = [\n",
    "    'Molecule ChEMBL ID', 'Molecule Name', 'Molecule Max Phase', 'Compound Key', 'Standard Type', 'Standard Relation', 'Standard Value', 'Standard Units',\n",
    "    'pChEMBL Value', 'Data Validity Comment', 'Comment', 'Uo Units', 'Ligand Efficiency BEI', 'mol_id',\n",
    "    'Ligand Efficiency LE', 'Ligand Efficiency LLE', 'Ligand Efficiency SEI', 'Potential Duplicate',\n",
    "    'Assay ChEMBL ID', 'Assay Description', 'Assay Type', 'BAO Format ID', 'BAO Label', 'Assay Organism',\n",
    "    'Assay Tissue ChEMBL ID', 'Assay Tissue Name', 'Assay Cell Type', 'Assay Subcellular Fraction',\n",
    "    'Assay Parameters', 'Assay Variant Accession', 'Assay Variant Mutation', 'Target ChEMBL ID', 'Processed_Molecule',\n",
    "    'Target Name', 'Target Organism', 'Target Type', 'Document ChEMBL ID', 'Source ID', 'Source Description', 'Name', 'Unnamed: 0',\n",
    "    'Document Journal', 'Document Year', 'Cell ChEMBL ID', 'Properties', 'Action Type', 'Standard Text Value', 'Value'\n",
    "]\n",
    "\n",
    "# Drop explicitly listed columns\n",
    "df = df.drop(columns=columns_to_drop, errors=\"ignore\")\n",
    "\n",
    "# Drop columns with regex patterns\n",
    "#regex_patterns = [\"FP\\d+\", \"ExtFP\\d+\", \"GraphFP\\d+\", \"MACCSFP\\d+\", \"PubchemFP\\d+\", \"SubFP\\d+\", \n",
    "#                  \"KRFP\\d+\", \"AD2D\\d+\", \"SubFPC\\d+\", \"KRFPC\\d+\", \"APC2D\\d+\", \"EStateFP\\d+\"]\n",
    "\n",
    "# Drop columns matching the patterns\n",
    "#df = df.drop(columns=[col for col in df.columns if any(re.match(pattern, col) for pattern in regex_patterns)], errors=\"ignore\")\n",
    "\n",
    "# Print result\n",
    "print(df.head())\n"
   ]
  },
  {
   "cell_type": "code",
   "execution_count": 10,
   "id": "f48788b8-6223-40e9-82bf-c420534482f4",
   "metadata": {},
   "outputs": [],
   "source": [
    "# Save the merged dataset\n",
    "df.to_csv(\"merged_dataset_cleaned.csv\", index=False)"
   ]
  },
  {
   "cell_type": "code",
   "execution_count": 11,
   "id": "ee8baaf6-a6f0-4ecf-b774-2af301df7477",
   "metadata": {},
   "outputs": [
    {
     "name": "stdout",
     "output_type": "stream",
     "text": [
      "Activity_Label\n",
      "0    1132\n",
      "1     425\n",
      "Name: count, dtype: int64\n"
     ]
    }
   ],
   "source": [
    "print(df[\"Activity_Label\"].value_counts(dropna=False))"
   ]
  },
  {
   "cell_type": "code",
   "execution_count": 14,
   "id": "a9b95415-eaf9-4d1b-9c0d-a2f6ba4c7ecf",
   "metadata": {},
   "outputs": [
    {
     "name": "stdout",
     "output_type": "stream",
     "text": [
      "Total dataset size after balancing: 1557\n",
      "Training set size: 1245\n",
      "Test set size: 312\n",
      "Activity_Label\n",
      "0    906\n",
      "1    339\n",
      "Name: count, dtype: int64\n"
     ]
    }
   ],
   "source": [
    "from sklearn.model_selection import train_test_split\n",
    "\n",
    "# Step 1: Separate Actives and Inactives\n",
    "actives = df[df['Activity_Label'] == 1]\n",
    "inactives = df[df['Activity_Label'] == 0]\n",
    "\n",
    "# Step 2: Randomly Undersample Inactives to match Actives (425 samples)\n",
    "#inactives_undersampled = inactives.sample(n=len(actives), random_state=42)\n",
    "\n",
    "# Step 3: Combine balanced dataset\n",
    "#df_balanced = pd.concat([actives, inactives_undersampled])\n",
    "\n",
    "# Step 4: Train-Test Split (80-20)\n",
    "train_df, test_df = train_test_split(df, test_size=0.2, random_state=42)\n",
    "\n",
    "# Print dataset sizes\n",
    "print(f\"Total dataset size after balancing: {len(df)}\")\n",
    "print(f\"Training set size: {len(train_df)}\")\n",
    "print(f\"Test set size: {len(test_df)}\")\n",
    "print(train_df['Activity_Label'].value_counts())  # Check class distribution"
   ]
  },
  {
   "cell_type": "code",
   "execution_count": 15,
   "id": "adab511e-5d44-42df-be34-1e0169331507",
   "metadata": {},
   "outputs": [],
   "source": [
    "train_df.to_csv(\"train_dataset.csv\", index=False)\n",
    "test_df.to_csv(\"test_dataset.csv\", index=False)"
   ]
  },
  {
   "cell_type": "code",
   "execution_count": 16,
   "id": "01d97bb8-b677-40df-a7c9-2ec32332665c",
   "metadata": {},
   "outputs": [
    {
     "ename": "KeyError",
     "evalue": "'mol_id'",
     "output_type": "error",
     "traceback": [
      "\u001b[0;31m---------------------------------------------------------------------------\u001b[0m",
      "\u001b[0;31mKeyError\u001b[0m                                  Traceback (most recent call last)",
      "File \u001b[0;32m/opt/conda/envs/openmm-env/lib/python3.12/site-packages/pandas/core/indexes/base.py:3805\u001b[0m, in \u001b[0;36mIndex.get_loc\u001b[0;34m(self, key)\u001b[0m\n\u001b[1;32m   3804\u001b[0m \u001b[38;5;28;01mtry\u001b[39;00m:\n\u001b[0;32m-> 3805\u001b[0m     \u001b[38;5;28;01mreturn\u001b[39;00m \u001b[38;5;28;43mself\u001b[39;49m\u001b[38;5;241;43m.\u001b[39;49m\u001b[43m_engine\u001b[49m\u001b[38;5;241;43m.\u001b[39;49m\u001b[43mget_loc\u001b[49m\u001b[43m(\u001b[49m\u001b[43mcasted_key\u001b[49m\u001b[43m)\u001b[49m\n\u001b[1;32m   3806\u001b[0m \u001b[38;5;28;01mexcept\u001b[39;00m \u001b[38;5;167;01mKeyError\u001b[39;00m \u001b[38;5;28;01mas\u001b[39;00m err:\n",
      "File \u001b[0;32mindex.pyx:167\u001b[0m, in \u001b[0;36mpandas._libs.index.IndexEngine.get_loc\u001b[0;34m()\u001b[0m\n",
      "File \u001b[0;32mindex.pyx:196\u001b[0m, in \u001b[0;36mpandas._libs.index.IndexEngine.get_loc\u001b[0;34m()\u001b[0m\n",
      "File \u001b[0;32mpandas/_libs/hashtable_class_helper.pxi:7081\u001b[0m, in \u001b[0;36mpandas._libs.hashtable.PyObjectHashTable.get_item\u001b[0;34m()\u001b[0m\n",
      "File \u001b[0;32mpandas/_libs/hashtable_class_helper.pxi:7089\u001b[0m, in \u001b[0;36mpandas._libs.hashtable.PyObjectHashTable.get_item\u001b[0;34m()\u001b[0m\n",
      "\u001b[0;31mKeyError\u001b[0m: 'mol_id'",
      "\nThe above exception was the direct cause of the following exception:\n",
      "\u001b[0;31mKeyError\u001b[0m                                  Traceback (most recent call last)",
      "Cell \u001b[0;32mIn[16], line 66\u001b[0m\n\u001b[1;32m     64\u001b[0m active_smiles \u001b[38;5;241m=\u001b[39m active_df[\u001b[38;5;124m'\u001b[39m\u001b[38;5;124mSmiles\u001b[39m\u001b[38;5;124m'\u001b[39m]\u001b[38;5;241m.\u001b[39mtolist()\n\u001b[1;32m     65\u001b[0m inactive_smiles \u001b[38;5;241m=\u001b[39m inactive_df[\u001b[38;5;124m'\u001b[39m\u001b[38;5;124mSmiles\u001b[39m\u001b[38;5;124m'\u001b[39m]\u001b[38;5;241m.\u001b[39mtolist()\n\u001b[0;32m---> 66\u001b[0m active_ids \u001b[38;5;241m=\u001b[39m \u001b[43mactive_df\u001b[49m\u001b[43m[\u001b[49m\u001b[38;5;124;43m'\u001b[39;49m\u001b[38;5;124;43mmol_id\u001b[39;49m\u001b[38;5;124;43m'\u001b[39;49m\u001b[43m]\u001b[49m\u001b[38;5;241m.\u001b[39mtolist()\n\u001b[1;32m     67\u001b[0m inactive_ids \u001b[38;5;241m=\u001b[39m inactive_df[\u001b[38;5;124m'\u001b[39m\u001b[38;5;124mmol_id\u001b[39m\u001b[38;5;124m'\u001b[39m]\u001b[38;5;241m.\u001b[39mtolist()\n\u001b[1;32m     68\u001b[0m active_mics \u001b[38;5;241m=\u001b[39m active_df[MIC_COLUMN]\u001b[38;5;241m.\u001b[39mtolist()\n",
      "File \u001b[0;32m/opt/conda/envs/openmm-env/lib/python3.12/site-packages/pandas/core/frame.py:4102\u001b[0m, in \u001b[0;36mDataFrame.__getitem__\u001b[0;34m(self, key)\u001b[0m\n\u001b[1;32m   4100\u001b[0m \u001b[38;5;28;01mif\u001b[39;00m \u001b[38;5;28mself\u001b[39m\u001b[38;5;241m.\u001b[39mcolumns\u001b[38;5;241m.\u001b[39mnlevels \u001b[38;5;241m>\u001b[39m \u001b[38;5;241m1\u001b[39m:\n\u001b[1;32m   4101\u001b[0m     \u001b[38;5;28;01mreturn\u001b[39;00m \u001b[38;5;28mself\u001b[39m\u001b[38;5;241m.\u001b[39m_getitem_multilevel(key)\n\u001b[0;32m-> 4102\u001b[0m indexer \u001b[38;5;241m=\u001b[39m \u001b[38;5;28;43mself\u001b[39;49m\u001b[38;5;241;43m.\u001b[39;49m\u001b[43mcolumns\u001b[49m\u001b[38;5;241;43m.\u001b[39;49m\u001b[43mget_loc\u001b[49m\u001b[43m(\u001b[49m\u001b[43mkey\u001b[49m\u001b[43m)\u001b[49m\n\u001b[1;32m   4103\u001b[0m \u001b[38;5;28;01mif\u001b[39;00m is_integer(indexer):\n\u001b[1;32m   4104\u001b[0m     indexer \u001b[38;5;241m=\u001b[39m [indexer]\n",
      "File \u001b[0;32m/opt/conda/envs/openmm-env/lib/python3.12/site-packages/pandas/core/indexes/base.py:3812\u001b[0m, in \u001b[0;36mIndex.get_loc\u001b[0;34m(self, key)\u001b[0m\n\u001b[1;32m   3807\u001b[0m     \u001b[38;5;28;01mif\u001b[39;00m \u001b[38;5;28misinstance\u001b[39m(casted_key, \u001b[38;5;28mslice\u001b[39m) \u001b[38;5;129;01mor\u001b[39;00m (\n\u001b[1;32m   3808\u001b[0m         \u001b[38;5;28misinstance\u001b[39m(casted_key, abc\u001b[38;5;241m.\u001b[39mIterable)\n\u001b[1;32m   3809\u001b[0m         \u001b[38;5;129;01mand\u001b[39;00m \u001b[38;5;28many\u001b[39m(\u001b[38;5;28misinstance\u001b[39m(x, \u001b[38;5;28mslice\u001b[39m) \u001b[38;5;28;01mfor\u001b[39;00m x \u001b[38;5;129;01min\u001b[39;00m casted_key)\n\u001b[1;32m   3810\u001b[0m     ):\n\u001b[1;32m   3811\u001b[0m         \u001b[38;5;28;01mraise\u001b[39;00m InvalidIndexError(key)\n\u001b[0;32m-> 3812\u001b[0m     \u001b[38;5;28;01mraise\u001b[39;00m \u001b[38;5;167;01mKeyError\u001b[39;00m(key) \u001b[38;5;28;01mfrom\u001b[39;00m\u001b[38;5;250m \u001b[39m\u001b[38;5;21;01merr\u001b[39;00m\n\u001b[1;32m   3813\u001b[0m \u001b[38;5;28;01mexcept\u001b[39;00m \u001b[38;5;167;01mTypeError\u001b[39;00m:\n\u001b[1;32m   3814\u001b[0m     \u001b[38;5;66;03m# If we have a listlike key, _check_indexing_error will raise\u001b[39;00m\n\u001b[1;32m   3815\u001b[0m     \u001b[38;5;66;03m#  InvalidIndexError. Otherwise we fall through and re-raise\u001b[39;00m\n\u001b[1;32m   3816\u001b[0m     \u001b[38;5;66;03m#  the TypeError.\u001b[39;00m\n\u001b[1;32m   3817\u001b[0m     \u001b[38;5;28mself\u001b[39m\u001b[38;5;241m.\u001b[39m_check_indexing_error(key)\n",
      "\u001b[0;31mKeyError\u001b[0m: 'mol_id'"
     ]
    }
   ],
   "source": [
    "from rdkit import Chem\n",
    "from rdkit.Chem import AllChem, Draw\n",
    "from reportlab.lib.pagesizes import letter\n",
    "from reportlab.pdfgen import canvas\n",
    "from reportlab.lib.utils import ImageReader\n",
    "from io import BytesIO\n",
    "import os\n",
    "\n",
    "# Parameters\n",
    "MIC_COLUMN = \"MIC_µM\"  \n",
    "GRID_SIZE = (2, 2)\n",
    "IMAGE_SIZE = (300, 300)\n",
    "FONT_SIZE = 10\n",
    "MARGIN = 40\n",
    "\n",
    "def smiles_to_2d_mol(smiles):\n",
    "    mol = Chem.MolFromSmiles(smiles)\n",
    "    if mol:\n",
    "        AllChem.Compute2DCoords(mol)\n",
    "    return mol\n",
    "\n",
    "def save_molecules_to_pdf_grid_labeled(smiles_list, mol_ids, mic_scores, output_path):\n",
    "    mols = [(smiles_to_2d_mol(smi), mid, mic) for smi, mid, mic in zip(smiles_list, mol_ids, mic_scores) if Chem.MolFromSmiles(smi)]\n",
    "    cols, rows = GRID_SIZE\n",
    "    mols_per_page = cols * rows\n",
    "\n",
    "    page_width, page_height = letter\n",
    "    cell_width = (page_width - (cols + 1) * MARGIN) / cols\n",
    "    cell_height = (page_height - (rows + 1) * MARGIN) / rows\n",
    "\n",
    "    c = canvas.Canvas(output_path, pagesize=letter)\n",
    "    c.setFont(\"Helvetica\", FONT_SIZE)\n",
    "\n",
    "    for i in range(0, len(mols), mols_per_page):\n",
    "        chunk = mols[i:i + mols_per_page]\n",
    "        for idx, (mol, mol_id, mic) in enumerate(chunk):\n",
    "            row = idx // cols\n",
    "            col = idx % cols\n",
    "\n",
    "            img = Draw.MolToImage(mol, size=IMAGE_SIZE)\n",
    "            buf = BytesIO()\n",
    "            img.save(buf, format='PNG')\n",
    "            buf.seek(0)\n",
    "\n",
    "            x = MARGIN + col * (cell_width + MARGIN)\n",
    "            y = page_height - MARGIN - (row + 1) * (cell_height + MARGIN) + MARGIN\n",
    "\n",
    "            # Draw molecule\n",
    "            c.drawImage(ImageReader(buf), x, y + FONT_SIZE * 2 + 4, width=cell_width, height=cell_height - FONT_SIZE * 2 - 10, preserveAspectRatio=True)\n",
    "\n",
    "            # Draw label with mol_id and MIC\n",
    "            label = f\"mol_id: {mol_id}\\nMIC: {mic}\"\n",
    "            c.drawCentredString(x + cell_width / 2, y + FONT_SIZE + 2, f\"mol_id: {mol_id}\")\n",
    "            c.drawCentredString(x + cell_width / 2, y, f\"MIC: {mic}\")\n",
    "\n",
    "        c.showPage()\n",
    "\n",
    "    c.save()\n",
    "\n",
    "# === Prepare data ===\n",
    "active_df = train_df[train_df[\"Activity_Label\"] == 1]\n",
    "inactive_df = train_df[train_df[\"Activity_Label\"] == 0]\n",
    "\n",
    "active_smiles = active_df['Smiles'].tolist()\n",
    "inactive_smiles = inactive_df['Smiles'].tolist()\n",
    "active_ids = active_df['mol_id'].tolist()\n",
    "inactive_ids = inactive_df['mol_id'].tolist()\n",
    "active_mics = active_df[MIC_COLUMN].tolist()\n",
    "inactive_mics = inactive_df[MIC_COLUMN].tolist()\n",
    "\n",
    "# === Output paths ===\n",
    "active_pdf_path = os.path.join(\"figures\", \"all_actives_structures_2x2_labeled_with_MIC.pdf\")\n",
    "inactive_pdf_path = os.path.join(\"figures\", \"all_inactives_structures_2x2_labeled_with_MIC.pdf\")\n",
    "\n",
    "# === Generate PDFs ===\n",
    "save_molecules_to_pdf_grid_labeled(active_smiles, active_ids, active_mics, active_pdf_path)\n",
    "save_molecules_to_pdf_grid_labeled(inactive_smiles, inactive_ids, inactive_mics, inactive_pdf_path)\n",
    "\n",
    "print(f\"✅ Actives PDF with MIC saved: {active_pdf_path}\")\n",
    "print(f\"✅ Inactives PDF with MIC saved: {inactive_pdf_path}\")\n"
   ]
  },
  {
   "cell_type": "code",
   "execution_count": null,
   "id": "a6145711-b247-46c5-a746-7fb5df4c6d58",
   "metadata": {},
   "outputs": [],
   "source": []
  },
  {
   "cell_type": "code",
   "execution_count": null,
   "id": "0fe1e19e-035c-4aaa-8d0b-d1284bf04868",
   "metadata": {},
   "outputs": [],
   "source": []
  }
 ],
 "metadata": {
  "kernelspec": {
   "display_name": "Python 3 (ipykernel)",
   "language": "python",
   "name": "python3"
  },
  "language_info": {
   "codemirror_mode": {
    "name": "ipython",
    "version": 3
   },
   "file_extension": ".py",
   "mimetype": "text/x-python",
   "name": "python",
   "nbconvert_exporter": "python",
   "pygments_lexer": "ipython3",
   "version": "3.12.9"
  }
 },
 "nbformat": 4,
 "nbformat_minor": 5
}
